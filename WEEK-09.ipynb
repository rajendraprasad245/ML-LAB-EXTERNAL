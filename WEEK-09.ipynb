{
 "cells": [
  {
   "cell_type": "code",
   "execution_count": 1,
   "id": "90ad436e",
   "metadata": {},
   "outputs": [],
   "source": [
    "# Import Libararies\n",
    "import pandas as pd\n",
    "import numpy as np\n",
    "import sklearn\n",
    "from sklearn import datasets"
   ]
  },
  {
   "cell_type": "code",
   "execution_count": 2,
   "id": "54da6f10",
   "metadata": {},
   "outputs": [],
   "source": [
    "# Load the dataset\n",
    "iris=datasets.load_iris()\n",
    "X=iris.data\n",
    "Y=iris.target"
   ]
  },
  {
   "cell_type": "code",
   "execution_count": 3,
   "id": "3cf7ecc8",
   "metadata": {},
   "outputs": [
    {
     "data": {
      "text/plain": [
       "array(['setosa', 'versicolor', 'virginica'], dtype='<U10')"
      ]
     },
     "execution_count": 3,
     "metadata": {},
     "output_type": "execute_result"
    }
   ],
   "source": [
    "# visualizing the dataset\n",
    "iris.target_names"
   ]
  },
  {
   "cell_type": "code",
   "execution_count": 4,
   "id": "5db9ed41",
   "metadata": {},
   "outputs": [
    {
     "data": {
      "text/plain": [
       "['sepal length (cm)',\n",
       " 'sepal width (cm)',\n",
       " 'petal length (cm)',\n",
       " 'petal width (cm)']"
      ]
     },
     "execution_count": 4,
     "metadata": {},
     "output_type": "execute_result"
    }
   ],
   "source": [
    "# Feature names\n",
    "iris.feature_names"
   ]
  },
  {
   "cell_type": "code",
   "execution_count": 5,
   "id": "783e3e6f",
   "metadata": {},
   "outputs": [
    {
     "data": {
      "text/plain": [
       "array([[5.1, 3.5, 1.4, 0.2],\n",
       "       [4.9, 3. , 1.4, 0.2],\n",
       "       [4.7, 3.2, 1.3, 0.2],\n",
       "       [4.6, 3.1, 1.5, 0.2],\n",
       "       [5. , 3.6, 1.4, 0.2]])"
      ]
     },
     "execution_count": 5,
     "metadata": {},
     "output_type": "execute_result"
    }
   ],
   "source": [
    "iris.data[0:5]"
   ]
  },
  {
   "cell_type": "code",
   "execution_count": 6,
   "id": "6d6d6569",
   "metadata": {},
   "outputs": [],
   "source": [
    "# Splitting the Dataset\n",
    "from sklearn.model_selection import train_test_split\n",
    "Xtrain,Xtest,Ytrain,Ytest=train_test_split(X,Y,test_size=0.3)"
   ]
  },
  {
   "cell_type": "code",
   "execution_count": 7,
   "id": "37945284",
   "metadata": {},
   "outputs": [],
   "source": [
    "# Building AdaBoost Model\n",
    "from sklearn.ensemble import AdaBoostClassifier\n",
    "ADB=AdaBoostClassifier()\n",
    "model=ADB.fit(Xtrain,Ytrain)"
   ]
  },
  {
   "cell_type": "code",
   "execution_count": 8,
   "id": "4143cdad",
   "metadata": {},
   "outputs": [
    {
     "data": {
      "text/plain": [
       "array([2, 2, 1, 1, 1, 0, 1, 1, 1, 0, 0, 1, 2, 0, 1, 1, 2, 0, 2, 2, 1, 0,\n",
       "       1, 0, 0, 2, 0, 1, 0, 0, 2, 2, 1, 0, 0, 0, 1, 0, 1, 2, 1, 0, 1, 1,\n",
       "       2])"
      ]
     },
     "execution_count": 8,
     "metadata": {},
     "output_type": "execute_result"
    }
   ],
   "source": [
    "# Sample Prediction\n",
    "y_pred=model.predict(Xtest)\n",
    "y_pred"
   ]
  },
  {
   "cell_type": "code",
   "execution_count": 9,
   "id": "4befe605",
   "metadata": {},
   "outputs": [
    {
     "name": "stdout",
     "output_type": "stream",
     "text": [
      "*************  confusion matirx  ***************\n",
      "[[16  0  0]\n",
      " [ 0 15  0]\n",
      " [ 0  3 11]]\n",
      "\n",
      "*************  Classification Report  ***************\n",
      "              precision    recall  f1-score   support\n",
      "\n",
      "           0       1.00      1.00      1.00        16\n",
      "           1       0.83      1.00      0.91        15\n",
      "           2       1.00      0.79      0.88        14\n",
      "\n",
      "    accuracy                           0.93        45\n",
      "   macro avg       0.94      0.93      0.93        45\n",
      "weighted avg       0.94      0.93      0.93        45\n",
      "\n",
      "*************  Accuracy Score  ***************\n",
      "0.9333333333333333\n"
     ]
    }
   ],
   "source": [
    "# Evaluating the AdaBoost model\n",
    "from sklearn.metrics import confusion_matrix,classification_report,accuracy_score\n",
    "print('*************  confusion matirx  ***************')\n",
    "print(confusion_matrix(Ytest,y_pred))\n",
    "print('\\n*************  Classification Report  ***************')\n",
    "print(classification_report(Ytest,y_pred))\n",
    "print('*************  Accuracy Score  ***************')\n",
    "print(accuracy_score(Ytest,y_pred))"
   ]
  },
  {
   "cell_type": "code",
   "execution_count": 10,
   "id": "98f3eefe",
   "metadata": {},
   "outputs": [],
   "source": [
    "# Parameter Tuning using Base estimator\n",
    "from sklearn.svm import SVC\n",
    "from sklearn.ensemble import AdaBoostClassifier\n",
    "svc=SVC(probability=True,kernel='linear')\n",
    "ADB=AdaBoostClassifier(n_estimators=100, base_estimator=svc, learning_rate=0.01)"
   ]
  },
  {
   "cell_type": "code",
   "execution_count": 11,
   "id": "90caab0a",
   "metadata": {},
   "outputs": [
    {
     "data": {
      "text/plain": [
       "array([2, 2, 1, 2, 1, 0, 2, 1, 1, 0, 0, 1, 2, 0, 1, 1, 2, 0, 2, 2, 1, 0,\n",
       "       1, 0, 0, 2, 0, 1, 0, 0, 2, 2, 1, 0, 0, 0, 1, 0, 1, 2, 1, 0, 2, 1,\n",
       "       2])"
      ]
     },
     "execution_count": 11,
     "metadata": {},
     "output_type": "execute_result"
    }
   ],
   "source": [
    "# Training and Predicting AdaBoost Classifier\n",
    "model=ADB.fit(Xtrain,Ytrain)\n",
    "y_pred=model.predict(Xtest)\n",
    "y_pred"
   ]
  },
  {
   "cell_type": "code",
   "execution_count": 12,
   "id": "9ece07e2",
   "metadata": {},
   "outputs": [
    {
     "name": "stdout",
     "output_type": "stream",
     "text": [
      "*************  confusion matirx  ***************\n",
      "[[16  0  0]\n",
      " [ 0 15  0]\n",
      " [ 0  0 14]]\n",
      "\n",
      "*************  Classification Report  ***************\n",
      "              precision    recall  f1-score   support\n",
      "\n",
      "           0       1.00      1.00      1.00        16\n",
      "           1       1.00      1.00      1.00        15\n",
      "           2       1.00      1.00      1.00        14\n",
      "\n",
      "    accuracy                           1.00        45\n",
      "   macro avg       1.00      1.00      1.00        45\n",
      "weighted avg       1.00      1.00      1.00        45\n",
      "\n",
      "*************  Accuracy Score  ***************\n",
      "1.0\n"
     ]
    }
   ],
   "source": [
    "# Evaluating the AdaBoost Classifier\n",
    "print('*************  confusion matirx  ***************')\n",
    "print(confusion_matrix(Ytest,y_pred))\n",
    "print('\\n*************  Classification Report  ***************')\n",
    "print(classification_report(Ytest,y_pred))\n",
    "print('*************  Accuracy Score  ***************')\n",
    "print(accuracy_score(Ytest,y_pred))"
   ]
  },
  {
   "cell_type": "code",
   "execution_count": null,
   "id": "9c65f196",
   "metadata": {},
   "outputs": [],
   "source": []
  }
 ],
 "metadata": {
  "kernelspec": {
   "display_name": "Python 3 (ipykernel)",
   "language": "python",
   "name": "python3"
  },
  "language_info": {
   "codemirror_mode": {
    "name": "ipython",
    "version": 3
   },
   "file_extension": ".py",
   "mimetype": "text/x-python",
   "name": "python",
   "nbconvert_exporter": "python",
   "pygments_lexer": "ipython3",
   "version": "3.9.12"
  }
 },
 "nbformat": 4,
 "nbformat_minor": 5
}
