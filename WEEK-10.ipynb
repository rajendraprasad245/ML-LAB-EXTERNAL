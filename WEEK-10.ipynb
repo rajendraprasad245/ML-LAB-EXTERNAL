{
 "cells": [
  {
   "cell_type": "code",
   "execution_count": 1,
   "id": "396cc6aa",
   "metadata": {},
   "outputs": [],
   "source": [
    "# import libraries\n",
    "from sklearn.datasets import fetch_openml\n",
    "from sklearn.tree import DecisionTreeClassifier\n",
    "from sklearn.metrics import accuracy_score\n",
    "import matplotlib\n",
    "import matplotlib.pyplot as plt\n",
    "import numpy as np\n",
    "import seaborn as sns"
   ]
  },
  {
   "cell_type": "code",
   "execution_count": 2,
   "id": "27da3df7",
   "metadata": {},
   "outputs": [],
   "source": [
    "# Load dataset\n",
    "mnist=fetch_openml('mnist_784')\n",
    "x,y=mnist['data'],mnist['target']"
   ]
  },
  {
   "cell_type": "code",
   "execution_count": 3,
   "id": "b8b64a96",
   "metadata": {},
   "outputs": [],
   "source": [
    "# visualize dataset\n",
    "x=np.array(x)\n",
    "y=np.array(y)\n",
    "y=y.astype('int')"
   ]
  },
  {
   "cell_type": "code",
   "execution_count": 4,
   "id": "642726d6",
   "metadata": {},
   "outputs": [
    {
     "data": {
      "text/plain": [
       "(70000,)"
      ]
     },
     "execution_count": 4,
     "metadata": {},
     "output_type": "execute_result"
    }
   ],
   "source": [
    "# shape of x,y\n",
    "x.shape\n",
    "y.shape"
   ]
  },
  {
   "cell_type": "code",
   "execution_count": 5,
   "id": "2593260a",
   "metadata": {},
   "outputs": [],
   "source": [
    "# Split dataset into train.test\n",
    "x_train,x_test=x[:60000],x[60000:700000]\n",
    "y_train,y_test=y[:60000],y[60000:70000]"
   ]
  },
  {
   "cell_type": "code",
   "execution_count": 6,
   "id": "21c1a890",
   "metadata": {},
   "outputs": [
    {
     "data": {
      "text/plain": [
       "(60000,)"
      ]
     },
     "execution_count": 6,
     "metadata": {},
     "output_type": "execute_result"
    }
   ],
   "source": [
    "# size of train and test dataset\n",
    "y_train.shape"
   ]
  },
  {
   "cell_type": "code",
   "execution_count": 7,
   "id": "b19f6402",
   "metadata": {},
   "outputs": [
    {
     "data": {
      "text/plain": [
       "(60000, 784)"
      ]
     },
     "execution_count": 7,
     "metadata": {},
     "output_type": "execute_result"
    }
   ],
   "source": [
    "# size of train and test dataset\n",
    "x_train.shape"
   ]
  },
  {
   "cell_type": "code",
   "execution_count": 8,
   "id": "089ec944",
   "metadata": {},
   "outputs": [
    {
     "data": {
      "text/plain": [
       "(10000,)"
      ]
     },
     "execution_count": 8,
     "metadata": {},
     "output_type": "execute_result"
    }
   ],
   "source": [
    "y_test.shape"
   ]
  },
  {
   "cell_type": "code",
   "execution_count": 9,
   "id": "4c15af31",
   "metadata": {},
   "outputs": [
    {
     "data": {
      "text/plain": [
       "<matplotlib.image.AxesImage at 0x2c9d1bdca90>"
      ]
     },
     "execution_count": 9,
     "metadata": {},
     "output_type": "execute_result"
    },
    {
     "data": {
      "image/png": "[encoded data removed]",
      "text/plain": [
       "<Figure size 432x288 with 1 Axes>"
      ]
     },
     "metadata": {
      "needs_background": "light"
     },
     "output_type": "display_data"
    }
   ],
   "source": [
    "# Data visualization\n",
    "some_image=x[520]\n",
    "some_image=some_image.reshape(28,28)\n",
    "plt.imshow(some_image,cmap=matplotlib.cm.binary,interpolation ='nearest')"
   ]
  },
  {
   "cell_type": "code",
   "execution_count": 10,
   "id": "2fd09d3a",
   "metadata": {},
   "outputs": [
    {
     "data": {
      "text/plain": [
       "<matplotlib.image.AxesImage at 0x2c9d1b83a90>"
      ]
     },
     "execution_count": 10,
     "metadata": {},
     "output_type": "execute_result"
    },
    {
     "data": {
      "image/png": "[encoded data removed]",
      "text/plain": [
       "<Figure size 432x288 with 1 Axes>"
      ]
     },
     "metadata": {
      "needs_background": "light"
     },
     "output_type": "display_data"
    }
   ],
   "source": [
    "some_image=x[120]\n",
    "some_image=some_image.reshape(28,28)\n",
    "plt.imshow(some_image,cmap=matplotlib.cm.binary,interpolation ='nearest')"
   ]
  },
  {
   "cell_type": "code",
   "execution_count": 11,
   "id": "c3bd599e",
   "metadata": {},
   "outputs": [],
   "source": [
    "def bagging():\n",
    "    indexes=np.random.randint(0,len(x_train),len(x_train))\n",
    "    bag=x_train[indexes]\n",
    "    target=y_train[indexes]\n",
    "    return(bag,target)"
   ]
  },
  {
   "cell_type": "code",
   "execution_count": 12,
   "id": "b73a28cd",
   "metadata": {},
   "outputs": [
    {
     "name": "stdout",
     "output_type": "stream",
     "text": [
      "(60000, 784) \n",
      " (60000,)\n"
     ]
    }
   ],
   "source": [
    "# Bag-1\n",
    "bag1=bagging()\n",
    "print(bag1[0].shape,'\\n',bag1[1].shape)"
   ]
  },
  {
   "cell_type": "code",
   "execution_count": 13,
   "id": "3c7e9f80",
   "metadata": {},
   "outputs": [
    {
     "data": {
      "text/plain": [
       "DecisionTreeClassifier()"
      ]
     },
     "execution_count": 13,
     "metadata": {},
     "output_type": "execute_result"
    }
   ],
   "source": [
    "# Training bag-1\n",
    "dtc1=DecisionTreeClassifier()\n",
    "dtc1.fit(bag1[0],bag1[1])"
   ]
  },
  {
   "cell_type": "code",
   "execution_count": 14,
   "id": "ae3e4d28",
   "metadata": {},
   "outputs": [
    {
     "name": "stdout",
     "output_type": "stream",
     "text": [
      "(60000, 784) \n",
      " (60000,)\n"
     ]
    }
   ],
   "source": [
    "# Bag-2\n",
    "bag2=bagging()\n",
    "print(bag2[0].shape,'\\n',bag2[1].shape)"
   ]
  },
  {
   "cell_type": "code",
   "execution_count": 15,
   "id": "8b59238d",
   "metadata": {},
   "outputs": [
    {
     "data": {
      "text/plain": [
       "DecisionTreeClassifier()"
      ]
     },
     "execution_count": 15,
     "metadata": {},
     "output_type": "execute_result"
    }
   ],
   "source": [
    "# Training bag-2\n",
    "dtc2=DecisionTreeClassifier()\n",
    "dtc2.fit(bag2[0],bag2[1])"
   ]
  },
  {
   "cell_type": "code",
   "execution_count": 16,
   "id": "48a1f5ff",
   "metadata": {},
   "outputs": [
    {
     "name": "stdout",
     "output_type": "stream",
     "text": [
      "(60000, 784) \n",
      " (60000,)\n"
     ]
    }
   ],
   "source": [
    "# Bag-3\n",
    "bag3=bagging()\n",
    "print(bag3[0].shape,'\\n',bag3[1].shape)"
   ]
  },
  {
   "cell_type": "code",
   "execution_count": 17,
   "id": "ecae3a60",
   "metadata": {},
   "outputs": [
    {
     "data": {
      "text/plain": [
       "DecisionTreeClassifier()"
      ]
     },
     "execution_count": 17,
     "metadata": {},
     "output_type": "execute_result"
    }
   ],
   "source": [
    "# Training bag-3\n",
    "dtc3=DecisionTreeClassifier()\n",
    "dtc3.fit(bag3[0],bag3[1])"
   ]
  },
  {
   "cell_type": "code",
   "execution_count": 18,
   "id": "b6222e93",
   "metadata": {},
   "outputs": [],
   "source": [
    "# Combining the results of all 3 classifiers\n",
    "pred_1=dtc1.predict(x_test)\n",
    "pred_2=dtc2.predict(x_test)\n",
    "pred_3=dtc3.predict(x_test)"
   ]
  },
  {
   "cell_type": "code",
   "execution_count": 20,
   "id": "23e29ed3",
   "metadata": {},
   "outputs": [],
   "source": [
    "# Majority voting of 3 predictions\n",
    "y_pred=[]\n",
    "for i in range(len(x_test)):\n",
    "    node=[pred_1[i],pred_2[i],pred_3[i]]\n",
    "    majority_vote=max(node,key=node.count)\n",
    "    y_pred.append(majority_vote)\n",
    "y_pred=np.array(y_pred)"
   ]
  },
  {
   "cell_type": "code",
   "execution_count": 21,
   "id": "30563776",
   "metadata": {},
   "outputs": [
    {
     "data": {
      "text/plain": [
       "(10000,)"
      ]
     },
     "execution_count": 21,
     "metadata": {},
     "output_type": "execute_result"
    }
   ],
   "source": [
    "# Shape and elements of prediction\n",
    "y_pred.shape"
   ]
  },
  {
   "cell_type": "code",
   "execution_count": 22,
   "id": "e9f3f997",
   "metadata": {},
   "outputs": [
    {
     "data": {
      "text/plain": [
       "array([5, 0, 4, 1, 9, 2, 1, 3, 1, 4])"
      ]
     },
     "execution_count": 22,
     "metadata": {},
     "output_type": "execute_result"
    }
   ],
   "source": [
    "y[:10]"
   ]
  },
  {
   "cell_type": "code",
   "execution_count": 23,
   "id": "f7a422e8",
   "metadata": {},
   "outputs": [
    {
     "name": "stdout",
     "output_type": "stream",
     "text": [
      "Accuracy =  0.9056\n"
     ]
    }
   ],
   "source": [
    "# Final Accuracy\n",
    "print(\"Accuracy = \",accuracy_score(y_test,y_pred))"
   ]
  },
  {
   "cell_type": "code",
   "execution_count": null,
   "id": "58b7c54f",
   "metadata": {},
   "outputs": [],
   "source": []
  }
 ],
 "metadata": {
  "kernelspec": {
   "display_name": "Python 3 (ipykernel)",
   "language": "python",
   "name": "python3"
  },
  "language_info": {
   "codemirror_mode": {
    "name": "ipython",
    "version": 3
   },
   "file_extension": ".py",
   "mimetype": "text/x-python",
   "name": "python",
   "nbconvert_exporter": "python",
   "pygments_lexer": "ipython3",
   "version": "3.9.12"
  }
 },
 "nbformat": 4,
 "nbformat_minor": 5
}
